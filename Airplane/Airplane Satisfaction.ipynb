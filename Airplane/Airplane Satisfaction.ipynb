{
 "cells": [
  {
   "cell_type": "markdown",
   "id": "cab451e8",
   "metadata": {},
   "source": [
    "### Importing Required Libraries"
   ]
  },
  {
   "cell_type": "code",
   "execution_count": 108,
   "id": "e7cce6cf",
   "metadata": {},
   "outputs": [
    {
     "data": {
      "text/plain": [
       "'C:\\\\Users\\\\306student\\\\Desktop\\\\mini project'"
      ]
     },
     "execution_count": 108,
     "metadata": {},
     "output_type": "execute_result"
    }
   ],
   "source": [
    "import tensorflow as tf\n",
    "import numpy as np\n",
    "import pandas as pd\n",
    "from sklearn.model_selection import train_test_split\n",
    "import os\n",
    "\n",
    "os.getcwd()"
   ]
  },
  {
   "cell_type": "markdown",
   "id": "16cd159a",
   "metadata": {},
   "source": [
    "### Data Exploration and Cleaning"
   ]
  },
  {
   "cell_type": "code",
   "execution_count": 109,
   "id": "6a57f1b5",
   "metadata": {},
   "outputs": [],
   "source": [
    "df = pd.read_csv('C:/Users/306student/Desktop/mini project/Airplane/train.csv')"
   ]
  },
  {
   "cell_type": "code",
   "execution_count": 110,
   "id": "7ee9b333",
   "metadata": {},
   "outputs": [],
   "source": [
    "df2 = pd.read_csv('C:/Users/306student/Desktop/mini project/Airplane/test.csv')\n",
    "frames = [df, df2]\n",
    "df = pd.concat(frames)"
   ]
  },
  {
   "cell_type": "code",
   "execution_count": 111,
   "id": "d2d4de0d",
   "metadata": {},
   "outputs": [],
   "source": [
    "a = pd.get_dummies(df['Gender'])\n",
    "b = pd.get_dummies(df['Customer Type'])\n",
    "c = pd.get_dummies(df['Type of Travel'])\n",
    "d = pd.get_dummies(df['Class'])"
   ]
  },
  {
   "cell_type": "code",
   "execution_count": 112,
   "id": "0adeced2",
   "metadata": {},
   "outputs": [],
   "source": [
    "frames = [df, a, b, c, d]\n",
    "\n",
    "df = pd.concat(frames, axis = 1)\n",
    "df.head()\n",
    "\n",
    "df = df.drop(columns = ['Gender', 'Customer Type', 'Type of Travel', 'Class', 'Arrival Delay in Minutes'])"
   ]
  },
  {
   "cell_type": "code",
   "execution_count": 37,
   "id": "b0f333b3",
   "metadata": {},
   "outputs": [],
   "source": [
    "df['satisfaction'].replace(['neutral or dissatisfied', 'satisfied'], [0,1], inplace = True)\n",
    "\n",
    "## where 'neutral or dissatisfied' is 0 and 'satisfied' is 1"
   ]
  },
  {
   "cell_type": "code",
   "execution_count": null,
   "id": "b5aac150",
   "metadata": {},
   "outputs": [],
   "source": []
  },
  {
   "cell_type": "markdown",
   "id": "099b670e",
   "metadata": {},
   "source": [
    "### Organizing Data for Training"
   ]
  },
  {
   "cell_type": "code",
   "execution_count": 38,
   "id": "64232de2",
   "metadata": {},
   "outputs": [
    {
     "name": "stderr",
     "output_type": "stream",
     "text": [
      "C:\\Users\\306student\\AppData\\Roaming\\Python\\Python310\\site-packages\\numpy\\core\\fromnumeric.py:84: FutureWarning: In a future version, DataFrame.min(axis=None) will return a scalar min over the entire DataFrame. To retain the old behavior, use 'frame.min(axis=0)' or just 'frame.min()'\n",
      "  return reduction(axis=axis, out=out, **passkwargs)\n",
      "C:\\Users\\306student\\AppData\\Roaming\\Python\\Python310\\site-packages\\numpy\\core\\fromnumeric.py:84: FutureWarning: In a future version, DataFrame.max(axis=None) will return a scalar max over the entire DataFrame. To retain the old behavior, use 'frame.max(axis=0)' or just 'frame.max()'\n",
      "  return reduction(axis=axis, out=out, **passkwargs)\n"
     ]
    }
   ],
   "source": [
    "y = df.satisfaction.values\n",
    "\n",
    "x_data = df.drop(columns = ['Unnamed: 0', 'id', 'satisfaction'])\n",
    "x = (x_data - np.min(x_data)) / (np.max(x_data) - np.min(x_data)).values\n"
   ]
  },
  {
   "cell_type": "code",
   "execution_count": 39,
   "id": "afbe2e57",
   "metadata": {},
   "outputs": [],
   "source": [
    "x_train, x_test, y_train, y_test = train_test_split(x, y, test_size=0.2, random_state=42)\n",
    "\n",
    "x_train, x_val, y_train, y_val = train_test_split(x_train, y_train, test_size=0.2, random_state=1)"
   ]
  },
  {
   "cell_type": "markdown",
   "id": "5e74f42f",
   "metadata": {},
   "source": [
    "### Building and Training Model"
   ]
  },
  {
   "cell_type": "code",
   "execution_count": 62,
   "id": "fb83a608",
   "metadata": {},
   "outputs": [],
   "source": [
    "inputs = tf.keras.Input(shape=(26,))"
   ]
  },
  {
   "cell_type": "code",
   "execution_count": 95,
   "id": "8ec86807",
   "metadata": {},
   "outputs": [],
   "source": [
    "func = 'relu'\n",
    "initializer = 'he_normal'\n",
    "hidden1 = tf.keras.layers.Dense(256, activation = func, kernel_initializer = initializer)(inputs)\n",
    "hidden2 = tf.keras.layers.Dense(512, activation = func, kernel_initializer = initializer)(hidden1)\n",
    "hidden3 = tf.keras.layers.Dropout(0.2)(hidden2)\n",
    "hidden4 = tf.keras.layers.Dense(512, activation = func, kernel_initializer = initializer)(hidden3)\n",
    "hidden5 = tf.keras.layers.Dropout(0.2)(hidden4)\n",
    "hidden6 = tf.keras.layers.Dense(512, activation = func, kernel_initializer = initializer)(hidden5)\n",
    "hidden7 = tf.keras.layers.Dropout(0.2)(hidden6)\n",
    "hidden8 = tf.keras.layers.Dense(512, activation = func, kernel_initializer = initializer)(hidden7)\n",
    "hidden9 = tf.keras.layers.Dropout(0.2)(hidden8)\n",
    "hidden10 = tf.keras.layers.Dense(512, activation = func, kernel_initializer = initializer)(hidden9)\n",
    "hidden11 = tf.keras.layers.Dropout(0.2)(hidden10)\n",
    "hidden12 = tf.keras.layers.Dense(512, activation = func, kernel_initializer = initializer)(hidden11)\n",
    "hidden13 = tf.keras.layers.Dropout(0.2)(hidden12)\n",
    "hidden14 = tf.keras.layers.Dense(256, activation = func, kernel_initializer = initializer)(hidden13)"
   ]
  },
  {
   "cell_type": "code",
   "execution_count": 96,
   "id": "adba3cdf",
   "metadata": {},
   "outputs": [],
   "source": [
    "output = tf.keras.layers.Dense(1)(hidden14)"
   ]
  },
  {
   "cell_type": "code",
   "execution_count": 97,
   "id": "d04ae221",
   "metadata": {},
   "outputs": [],
   "source": [
    "model = tf.keras.models.Model(inputs=inputs, outputs=output)"
   ]
  },
  {
   "cell_type": "code",
   "execution_count": 98,
   "id": "dd2d4ed1",
   "metadata": {},
   "outputs": [
    {
     "name": "stdout",
     "output_type": "stream",
     "text": [
      "Model: \"model_8\"\n",
      "_________________________________________________________________\n",
      " Layer (type)                Output Shape              Param #   \n",
      "=================================================================\n",
      " input_4 (InputLayer)        [(None, 26)]              0         \n",
      "                                                                 \n",
      " dense_80 (Dense)            (None, 256)               6912      \n",
      "                                                                 \n",
      " dense_81 (Dense)            (None, 512)               131584    \n",
      "                                                                 \n",
      " dropout_54 (Dropout)        (None, 512)               0         \n",
      "                                                                 \n",
      " dense_82 (Dense)            (None, 512)               262656    \n",
      "                                                                 \n",
      " dropout_55 (Dropout)        (None, 512)               0         \n",
      "                                                                 \n",
      " dense_83 (Dense)            (None, 512)               262656    \n",
      "                                                                 \n",
      " dropout_56 (Dropout)        (None, 512)               0         \n",
      "                                                                 \n",
      " dense_84 (Dense)            (None, 512)               262656    \n",
      "                                                                 \n",
      " dropout_57 (Dropout)        (None, 512)               0         \n",
      "                                                                 \n",
      " dense_85 (Dense)            (None, 512)               262656    \n",
      "                                                                 \n",
      " dropout_58 (Dropout)        (None, 512)               0         \n",
      "                                                                 \n",
      " dense_86 (Dense)            (None, 512)               262656    \n",
      "                                                                 \n",
      " dropout_59 (Dropout)        (None, 512)               0         \n",
      "                                                                 \n",
      " dense_87 (Dense)            (None, 256)               131328    \n",
      "                                                                 \n",
      " dense_88 (Dense)            (None, 1)                 257       \n",
      "                                                                 \n",
      "=================================================================\n",
      "Total params: 1,583,361\n",
      "Trainable params: 1,583,361\n",
      "Non-trainable params: 0\n",
      "_________________________________________________________________\n"
     ]
    }
   ],
   "source": [
    "model.summary()"
   ]
  },
  {
   "cell_type": "code",
   "execution_count": 99,
   "id": "f0d31a87",
   "metadata": {},
   "outputs": [],
   "source": [
    "model.compile(\n",
    "    loss = tf.keras.losses.BinaryCrossentropy(from_logits = True),\n",
    "    optimizer = 'adam',\n",
    "    metrics = ['accuracy']\n",
    ")"
   ]
  },
  {
   "cell_type": "code",
   "execution_count": 100,
   "id": "cddc8c58",
   "metadata": {},
   "outputs": [
    {
     "name": "stdout",
     "output_type": "stream",
     "text": [
      "Epoch 1/10\n",
      "2598/2598 [==============================] - 53s 20ms/step - loss: 0.2103 - accuracy: 0.9153 - val_loss: 0.1428 - val_accuracy: 0.9353\n",
      "Epoch 2/10\n",
      "2598/2598 [==============================] - 49s 19ms/step - loss: 0.1386 - accuracy: 0.9411 - val_loss: 0.1206 - val_accuracy: 0.9481\n",
      "Epoch 3/10\n",
      "2598/2598 [==============================] - 45s 17ms/step - loss: 0.1269 - accuracy: 0.9453 - val_loss: 0.1242 - val_accuracy: 0.9324\n",
      "Epoch 4/10\n",
      "2598/2598 [==============================] - 44s 17ms/step - loss: 0.1229 - accuracy: 0.9468 - val_loss: 0.1095 - val_accuracy: 0.9535\n",
      "Epoch 5/10\n",
      "2598/2598 [==============================] - 43s 16ms/step - loss: 0.1167 - accuracy: 0.9490 - val_loss: 0.1044 - val_accuracy: 0.9538\n",
      "Epoch 6/10\n",
      "2598/2598 [==============================] - 46s 18ms/step - loss: 0.1120 - accuracy: 0.9515 - val_loss: 0.1084 - val_accuracy: 0.9501\n",
      "Epoch 7/10\n",
      "2598/2598 [==============================] - 48s 19ms/step - loss: 0.1087 - accuracy: 0.9518 - val_loss: 0.1117 - val_accuracy: 0.9518\n",
      "Epoch 8/10\n",
      "2598/2598 [==============================] - 47s 18ms/step - loss: 0.1053 - accuracy: 0.9542 - val_loss: 0.1020 - val_accuracy: 0.9538\n",
      "Epoch 9/10\n",
      "2598/2598 [==============================] - 44s 17ms/step - loss: 0.1040 - accuracy: 0.9538 - val_loss: 0.1075 - val_accuracy: 0.9530\n",
      "Epoch 10/10\n",
      "2598/2598 [==============================] - 46s 18ms/step - loss: 0.1030 - accuracy: 0.9546 - val_loss: 0.1023 - val_accuracy: 0.9517\n"
     ]
    }
   ],
   "source": [
    "history = model.fit(x_train, y_train, epochs = 10, validation_data = (x_test, y_test))"
   ]
  },
  {
   "cell_type": "code",
   "execution_count": 101,
   "id": "4a564573",
   "metadata": {},
   "outputs": [
    {
     "data": {
      "image/png": "[encoded data removed]",
      "text/plain": [
       "<Figure size 432x288 with 1 Axes>"
      ]
     },
     "metadata": {
      "needs_background": "light"
     },
     "output_type": "display_data"
    }
   ],
   "source": [
    "import matplotlib.pyplot as plt\n",
    "\n",
    "plt.plot(history.history['loss'])\n",
    "\n",
    "plt.plot(history.history['val_loss'])\n",
    "\n",
    "plt.legend(['Loss', 'Validation Loss'], loc='upper right')\n",
    "plt.xlabel('epochs')\n",
    "plt.ylabel('Loss')\n",
    "plt.show()"
   ]
  },
  {
   "cell_type": "markdown",
   "id": "e3024146",
   "metadata": {},
   "source": [
    "### Test Model"
   ]
  },
  {
   "cell_type": "code",
   "execution_count": 113,
   "id": "aeaf4d4b",
   "metadata": {},
   "outputs": [
    {
     "name": "stdout",
     "output_type": "stream",
     "text": [
      "812/812 [==============================] - 3s 4ms/step - loss: 0.1023 - accuracy: 0.9517\n"
     ]
    },
    {
     "data": {
      "text/plain": [
       "[0.10234981030225754, 0.951724648475647]"
      ]
     },
     "execution_count": 113,
     "metadata": {},
     "output_type": "execute_result"
    }
   ],
   "source": [
    "model.evaluate(x_test, y_test)"
   ]
  }
 ],
 "metadata": {
  "kernelspec": {
   "display_name": "Python 3 (ipykernel)",
   "language": "python",
   "name": "python3"
  },
  "language_info": {
   "codemirror_mode": {
    "name": "ipython",
    "version": 3
   },
   "file_extension": ".py",
   "mimetype": "text/x-python",
   "name": "python",
   "nbconvert_exporter": "python",
   "pygments_lexer": "ipython3",
   "version": "3.10.4"
  }
 },
 "nbformat": 4,
 "nbformat_minor": 5
}
